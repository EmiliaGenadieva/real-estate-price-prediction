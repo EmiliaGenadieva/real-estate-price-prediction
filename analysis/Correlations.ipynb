{
 "cells": [
  {
   "cell_type": "code",
   "execution_count": 11,
   "metadata": {},
   "outputs": [],
   "source": [
    "import pandas as pd\n",
    "import numpy as np\n",
    "with open('/home/becode/Downloads/page_4.csv') as f:\n",
    "    us= pd.read_csv('/home/becode/Downloads/page_4.csv', index_col='ID')\n",
    "#us.reset_index(inplace=True)\n",
    "us['Bedrooms'] = pd.to_numeric(us['Bedrooms'])\n",
    "us['PricePr'] = pd.to_numeric(us['PricePr'], errors='coerce')\n",
    "us['Living area'] = pd.to_numeric(us['Living area'], errors='coerce')\n",
    "us['Surface of the plot'] = pd.to_numeric(us['Surface of the plot'], errors='coerce')\n",
    "us['Garden surface'] = pd.to_numeric(us['Garden surface'], errors='coerce')\n",
    "us['Terrace surface'] = pd.to_numeric(us['Terrace surface'], errors='coerce')"
   ]
  },
  {
   "attachments": {},
   "cell_type": "markdown",
   "metadata": {},
   "source": [
    "How many rows and columns?"
   ]
  },
  {
   "cell_type": "code",
   "execution_count": 12,
   "metadata": {},
   "outputs": [
    {
     "name": "stdout",
     "output_type": "stream",
     "text": [
      "(10127, 19)\n"
     ]
    }
   ],
   "source": [
    "# there are 10127 rows and 19 columns in the dataset\n",
    "print(us.shape)"
   ]
  },
  {
   "attachments": {},
   "cell_type": "markdown",
   "metadata": {},
   "source": [
    "What is the correlation between the variables and the price? (Why might that be?)\n",
    "Which variables have the greatest influence on the price?"
   ]
  },
  {
   "cell_type": "code",
   "execution_count": 13,
   "metadata": {},
   "outputs": [
    {
     "data": {
      "text/plain": [
       "PricePr                1.000000\n",
       "Living area            0.403401\n",
       "Bedrooms               0.292853\n",
       "Surface of the plot    0.005762\n",
       "Garden surface         0.027404\n",
       "Terrace surface        0.104030\n",
       "dtype: float64"
      ]
     },
     "execution_count": 13,
     "metadata": {},
     "output_type": "execute_result"
    }
   ],
   "source": [
    "# as subset of only numeric values and only rows with all values\n",
    "us.dropna(subset = [\"PricePr\", \"Living area\", \"Bedrooms\", 'Surface of the plot', 'Garden surface', 'Terrace surface'], axis=0, inplace = True)\n",
    "frame = us[[\"PricePr\", \"Living area\", \"Bedrooms\", 'Surface of the plot', 'Garden surface', 'Terrace surface']]\n",
    "len(frame)\n",
    "frame[frame.columns].apply(lambda x: x.corr(frame['PricePr']))"
   ]
  },
  {
   "attachments": {},
   "cell_type": "markdown",
   "metadata": {},
   "source": [
    "Biggest influence on the price give Living area, followed by Bedrooms, Terrace surface."
   ]
  },
  {
   "attachments": {},
   "cell_type": "markdown",
   "metadata": {},
   "source": [
    "Which variables have the least influence on the price?\n",
    "-- 'Garden surface' & 'Surface of the plot' is least correlated with the 'Price' variable"
   ]
  },
  {
   "attachments": {},
   "cell_type": "markdown",
   "metadata": {},
   "source": [
    "How are variables correlated to each other? (Why?)"
   ]
  },
  {
   "cell_type": "code",
   "execution_count": 14,
   "metadata": {},
   "outputs": [
    {
     "data": {
      "text/html": [
       "<div>\n",
       "<style scoped>\n",
       "    .dataframe tbody tr th:only-of-type {\n",
       "        vertical-align: middle;\n",
       "    }\n",
       "\n",
       "    .dataframe tbody tr th {\n",
       "        vertical-align: top;\n",
       "    }\n",
       "\n",
       "    .dataframe thead th {\n",
       "        text-align: right;\n",
       "    }\n",
       "</style>\n",
       "<table border=\"1\" class=\"dataframe\">\n",
       "  <thead>\n",
       "    <tr style=\"text-align: right;\">\n",
       "      <th></th>\n",
       "      <th>PricePr</th>\n",
       "      <th>Living area</th>\n",
       "      <th>Bedrooms</th>\n",
       "      <th>Surface of the plot</th>\n",
       "      <th>Garden surface</th>\n",
       "      <th>Terrace surface</th>\n",
       "    </tr>\n",
       "  </thead>\n",
       "  <tbody>\n",
       "    <tr>\n",
       "      <th>PricePr</th>\n",
       "      <td>1.000000</td>\n",
       "      <td>0.403401</td>\n",
       "      <td>0.292853</td>\n",
       "      <td>0.005762</td>\n",
       "      <td>0.027404</td>\n",
       "      <td>0.104030</td>\n",
       "    </tr>\n",
       "    <tr>\n",
       "      <th>Living area</th>\n",
       "      <td>0.403401</td>\n",
       "      <td>1.000000</td>\n",
       "      <td>0.436409</td>\n",
       "      <td>-0.032156</td>\n",
       "      <td>0.002317</td>\n",
       "      <td>0.198746</td>\n",
       "    </tr>\n",
       "    <tr>\n",
       "      <th>Bedrooms</th>\n",
       "      <td>0.292853</td>\n",
       "      <td>0.436409</td>\n",
       "      <td>1.000000</td>\n",
       "      <td>-0.015786</td>\n",
       "      <td>-0.009149</td>\n",
       "      <td>0.081546</td>\n",
       "    </tr>\n",
       "    <tr>\n",
       "      <th>Surface of the plot</th>\n",
       "      <td>0.005762</td>\n",
       "      <td>-0.032156</td>\n",
       "      <td>-0.015786</td>\n",
       "      <td>1.000000</td>\n",
       "      <td>0.994643</td>\n",
       "      <td>-0.029067</td>\n",
       "    </tr>\n",
       "    <tr>\n",
       "      <th>Garden surface</th>\n",
       "      <td>0.027404</td>\n",
       "      <td>0.002317</td>\n",
       "      <td>-0.009149</td>\n",
       "      <td>0.994643</td>\n",
       "      <td>1.000000</td>\n",
       "      <td>0.000300</td>\n",
       "    </tr>\n",
       "    <tr>\n",
       "      <th>Terrace surface</th>\n",
       "      <td>0.104030</td>\n",
       "      <td>0.198746</td>\n",
       "      <td>0.081546</td>\n",
       "      <td>-0.029067</td>\n",
       "      <td>0.000300</td>\n",
       "      <td>1.000000</td>\n",
       "    </tr>\n",
       "  </tbody>\n",
       "</table>\n",
       "</div>"
      ],
      "text/plain": [
       "                      PricePr  Living area  Bedrooms  Surface of the plot  \\\n",
       "PricePr              1.000000     0.403401  0.292853             0.005762   \n",
       "Living area          0.403401     1.000000  0.436409            -0.032156   \n",
       "Bedrooms             0.292853     0.436409  1.000000            -0.015786   \n",
       "Surface of the plot  0.005762    -0.032156 -0.015786             1.000000   \n",
       "Garden surface       0.027404     0.002317 -0.009149             0.994643   \n",
       "Terrace surface      0.104030     0.198746  0.081546            -0.029067   \n",
       "\n",
       "                     Garden surface  Terrace surface  \n",
       "PricePr                    0.027404         0.104030  \n",
       "Living area                0.002317         0.198746  \n",
       "Bedrooms                  -0.009149         0.081546  \n",
       "Surface of the plot        0.994643        -0.029067  \n",
       "Garden surface             1.000000         0.000300  \n",
       "Terrace surface            0.000300         1.000000  "
      ]
     },
     "execution_count": 14,
     "metadata": {},
     "output_type": "execute_result"
    }
   ],
   "source": [
    "frame.corr()"
   ]
  },
  {
   "attachments": {},
   "cell_type": "markdown",
   "metadata": {},
   "source": [
    "How many qualitative and quantitative variables are there? How would you transform these values into numerical values?\n",
    "- What is the percentage of missing values per column?"
   ]
  },
  {
   "cell_type": "code",
   "execution_count": 15,
   "metadata": {},
   "outputs": [
    {
     "data": {
      "text/html": [
       "<div>\n",
       "<style scoped>\n",
       "    .dataframe tbody tr th:only-of-type {\n",
       "        vertical-align: middle;\n",
       "    }\n",
       "\n",
       "    .dataframe tbody tr th {\n",
       "        vertical-align: top;\n",
       "    }\n",
       "\n",
       "    .dataframe thead th {\n",
       "        text-align: right;\n",
       "    }\n",
       "</style>\n",
       "<table border=\"1\" class=\"dataframe\">\n",
       "  <thead>\n",
       "    <tr style=\"text-align: right;\">\n",
       "      <th></th>\n",
       "      <th>PricePr</th>\n",
       "      <th>Bedrooms</th>\n",
       "      <th>Living area</th>\n",
       "      <th>How many fireplaces?</th>\n",
       "      <th>Terrace surface</th>\n",
       "      <th>Garden surface</th>\n",
       "      <th>Surface of the plot</th>\n",
       "      <th>Number of frontages</th>\n",
       "      <th>Swimming pool</th>\n",
       "    </tr>\n",
       "  </thead>\n",
       "  <tbody>\n",
       "    <tr>\n",
       "      <th>count</th>\n",
       "      <td>5.310000e+02</td>\n",
       "      <td>531.000000</td>\n",
       "      <td>531.000000</td>\n",
       "      <td>30.000000</td>\n",
       "      <td>531.000000</td>\n",
       "      <td>531.000000</td>\n",
       "      <td>5.310000e+02</td>\n",
       "      <td>520.000000</td>\n",
       "      <td>0.0</td>\n",
       "    </tr>\n",
       "    <tr>\n",
       "      <th>mean</th>\n",
       "      <td>3.162545e+05</td>\n",
       "      <td>3.403013</td>\n",
       "      <td>182.318267</td>\n",
       "      <td>1.033333</td>\n",
       "      <td>28.853107</td>\n",
       "      <td>830.822976</td>\n",
       "      <td>5.089706e+03</td>\n",
       "      <td>2.707692</td>\n",
       "      <td>NaN</td>\n",
       "    </tr>\n",
       "    <tr>\n",
       "      <th>std</th>\n",
       "      <td>1.932585e+05</td>\n",
       "      <td>1.049488</td>\n",
       "      <td>88.162770</td>\n",
       "      <td>0.182574</td>\n",
       "      <td>25.098844</td>\n",
       "      <td>10468.112682</td>\n",
       "      <td>1.041341e+05</td>\n",
       "      <td>0.811252</td>\n",
       "      <td>NaN</td>\n",
       "    </tr>\n",
       "    <tr>\n",
       "      <th>min</th>\n",
       "      <td>4.000000e+04</td>\n",
       "      <td>1.000000</td>\n",
       "      <td>51.000000</td>\n",
       "      <td>1.000000</td>\n",
       "      <td>1.000000</td>\n",
       "      <td>1.000000</td>\n",
       "      <td>1.000000e+00</td>\n",
       "      <td>1.000000</td>\n",
       "      <td>NaN</td>\n",
       "    </tr>\n",
       "    <tr>\n",
       "      <th>25%</th>\n",
       "      <td>1.899000e+05</td>\n",
       "      <td>3.000000</td>\n",
       "      <td>130.000000</td>\n",
       "      <td>1.000000</td>\n",
       "      <td>15.000000</td>\n",
       "      <td>72.000000</td>\n",
       "      <td>1.895000e+02</td>\n",
       "      <td>2.000000</td>\n",
       "      <td>NaN</td>\n",
       "    </tr>\n",
       "    <tr>\n",
       "      <th>50%</th>\n",
       "      <td>2.850000e+05</td>\n",
       "      <td>3.000000</td>\n",
       "      <td>161.000000</td>\n",
       "      <td>1.000000</td>\n",
       "      <td>22.000000</td>\n",
       "      <td>150.000000</td>\n",
       "      <td>3.100000e+02</td>\n",
       "      <td>2.000000</td>\n",
       "      <td>NaN</td>\n",
       "    </tr>\n",
       "    <tr>\n",
       "      <th>75%</th>\n",
       "      <td>3.990000e+05</td>\n",
       "      <td>4.000000</td>\n",
       "      <td>208.000000</td>\n",
       "      <td>1.000000</td>\n",
       "      <td>35.000000</td>\n",
       "      <td>368.500000</td>\n",
       "      <td>5.810000e+02</td>\n",
       "      <td>3.000000</td>\n",
       "      <td>NaN</td>\n",
       "    </tr>\n",
       "    <tr>\n",
       "      <th>max</th>\n",
       "      <td>2.195000e+06</td>\n",
       "      <td>8.000000</td>\n",
       "      <td>1200.000000</td>\n",
       "      <td>2.000000</td>\n",
       "      <td>260.000000</td>\n",
       "      <td>240000.000000</td>\n",
       "      <td>2.400000e+06</td>\n",
       "      <td>4.000000</td>\n",
       "      <td>NaN</td>\n",
       "    </tr>\n",
       "  </tbody>\n",
       "</table>\n",
       "</div>"
      ],
      "text/plain": [
       "            PricePr    Bedrooms  Living area  How many fireplaces?  \\\n",
       "count  5.310000e+02  531.000000   531.000000             30.000000   \n",
       "mean   3.162545e+05    3.403013   182.318267              1.033333   \n",
       "std    1.932585e+05    1.049488    88.162770              0.182574   \n",
       "min    4.000000e+04    1.000000    51.000000              1.000000   \n",
       "25%    1.899000e+05    3.000000   130.000000              1.000000   \n",
       "50%    2.850000e+05    3.000000   161.000000              1.000000   \n",
       "75%    3.990000e+05    4.000000   208.000000              1.000000   \n",
       "max    2.195000e+06    8.000000  1200.000000              2.000000   \n",
       "\n",
       "       Terrace surface  Garden surface  Surface of the plot  \\\n",
       "count       531.000000      531.000000         5.310000e+02   \n",
       "mean         28.853107      830.822976         5.089706e+03   \n",
       "std          25.098844    10468.112682         1.041341e+05   \n",
       "min           1.000000        1.000000         1.000000e+00   \n",
       "25%          15.000000       72.000000         1.895000e+02   \n",
       "50%          22.000000      150.000000         3.100000e+02   \n",
       "75%          35.000000      368.500000         5.810000e+02   \n",
       "max         260.000000   240000.000000         2.400000e+06   \n",
       "\n",
       "       Number of frontages  Swimming pool  \n",
       "count           520.000000            0.0  \n",
       "mean              2.707692            NaN  \n",
       "std               0.811252            NaN  \n",
       "min               1.000000            NaN  \n",
       "25%               2.000000            NaN  \n",
       "50%               2.000000            NaN  \n",
       "75%               3.000000            NaN  \n",
       "max               4.000000            NaN  "
      ]
     },
     "execution_count": 15,
     "metadata": {},
     "output_type": "execute_result"
    }
   ],
   "source": [
    "# shown are numeric variables\n",
    "us.describe()"
   ]
  },
  {
   "cell_type": "code",
   "execution_count": 16,
   "metadata": {},
   "outputs": [
    {
     "data": {
      "text/plain": [
       "Locality                 object\n",
       "PricePr                 float64\n",
       "Tenement building        object\n",
       "Venue of the sale        object\n",
       "Bedrooms                float64\n",
       "Living area             float64\n",
       "Kitchen type             object\n",
       "Furnished                object\n",
       "How many fireplaces?    float64\n",
       "Terrace                  object\n",
       "Terrace surface         float64\n",
       "Garden                   object\n",
       "Garden surface          float64\n",
       "Surface of the plot     float64\n",
       "Number of frontages     float64\n",
       "Swimming pool           float64\n",
       "Building condition       object\n",
       "Type                     object\n",
       "Subtype                  object\n",
       "dtype: object"
      ]
     },
     "execution_count": 16,
     "metadata": {},
     "output_type": "execute_result"
    }
   ],
   "source": [
    "\n",
    "us.dtypes"
   ]
  },
  {
   "cell_type": "code",
   "execution_count": 17,
   "metadata": {},
   "outputs": [
    {
     "data": {
      "text/plain": [
       "Installed             228\n",
       "Sei equipped           65\n",
       "Hyper equipped         63\n",
       "Not installed          36\n",
       "USA hyper equipped     28\n",
       "USA installed          22\n",
       "USA sei equipped        4\n",
       "USA uninstalled         2\n",
       "Name: Kitchen type, dtype: int64"
      ]
     },
     "execution_count": 17,
     "metadata": {},
     "output_type": "execute_result"
    }
   ],
   "source": [
    "us['Kitchen type'].value_counts()"
   ]
  },
  {
   "cell_type": "code",
   "execution_count": 18,
   "metadata": {},
   "outputs": [
    {
     "data": {
      "text/plain": [
       "No     402\n",
       "Yes      9\n",
       "Name: Furnished, dtype: int64"
      ]
     },
     "execution_count": 18,
     "metadata": {},
     "output_type": "execute_result"
    }
   ],
   "source": [
    "us['Furnished'].value_counts()"
   ]
  },
  {
   "attachments": {},
   "cell_type": "markdown",
   "metadata": {},
   "source": [
    " 10 variables are not numeric\n",
    " 'YES' - 'NO' - 3 columns Terrace & Garden & Furnished - 0 for 'yes', 1 for 'no'\n",
    "Type of sale (Exclusion of life sales)Venue of the sale\tTenement building - 2 columns are merged\n",
    "code to be used for transforming of categorical values to numeric\n",
    "#s = pd.Series(list('abca')) pd.get_dummies(s)\n",
    "candidate columns: 'Kitchen type' 'Building condition'  'Type' 'SubType' 'Locality' 5 columns"
   ]
  }
 ],
 "metadata": {
  "kernelspec": {
   "display_name": "Python 3",
   "language": "python",
   "name": "python3"
  },
  "language_info": {
   "codemirror_mode": {
    "name": "ipython",
    "version": 3
   },
   "file_extension": ".py",
   "mimetype": "text/x-python",
   "name": "python",
   "nbconvert_exporter": "python",
   "pygments_lexer": "ipython3",
   "version": "3.8.10"
  },
  "orig_nbformat": 4,
  "vscode": {
   "interpreter": {
    "hash": "916dbcbb3f70747c44a77c7bcd40155683ae19c65e1c03b4aa3499c5328201f1"
   }
  }
 },
 "nbformat": 4,
 "nbformat_minor": 2
}
