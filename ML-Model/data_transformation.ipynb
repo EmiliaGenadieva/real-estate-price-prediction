{
 "cells": [
  {
   "attachments": {},
   "cell_type": "markdown",
   "metadata": {},
   "source": [
    "##  Column by column transform values to numeric\n",
    "#### Open csv file, display values of 'Kitchen type' column"
   ]
  },
  {
   "cell_type": "code",
   "execution_count": 114,
   "metadata": {},
   "outputs": [
    {
     "data": {
      "text/plain": [
       "Kitchen type      \n",
       "Not installed         4161\n",
       "Installed             3265\n",
       "Hyper equipped        1056\n",
       "Sei equipped           712\n",
       "USA hyper equipped     592\n",
       "USA installed          263\n",
       "USA sei equipped        73\n",
       "USA uninstalled          5\n",
       "dtype: int64"
      ]
     },
     "execution_count": 114,
     "metadata": {},
     "output_type": "execute_result"
    }
   ],
   "source": [
    "import pandas as pd\n",
    "import numpy as np\n",
    "\n",
    "with open('/home/becode/Downloads/page_1.csv') as f:\n",
    "    new_dict = pd.read_csv('/home/becode/Downloads/page_1.csv')\n",
    "new_dict[['Kitchen type']].value_counts()"
   ]
  },
  {
   "cell_type": "code",
   "execution_count": 115,
   "metadata": {},
   "outputs": [
    {
     "data": {
      "text/html": [
       "<div>\n",
       "<style scoped>\n",
       "    .dataframe tbody tr th:only-of-type {\n",
       "        vertical-align: middle;\n",
       "    }\n",
       "\n",
       "    .dataframe tbody tr th {\n",
       "        vertical-align: top;\n",
       "    }\n",
       "\n",
       "    .dataframe thead th {\n",
       "        text-align: right;\n",
       "    }\n",
       "</style>\n",
       "<table border=\"1\" class=\"dataframe\">\n",
       "  <thead>\n",
       "    <tr style=\"text-align: right;\">\n",
       "      <th></th>\n",
       "      <th>Locality</th>\n",
       "    </tr>\n",
       "  </thead>\n",
       "  <tbody>\n",
       "    <tr>\n",
       "      <th>0</th>\n",
       "      <td>252</td>\n",
       "    </tr>\n",
       "    <tr>\n",
       "      <th>1</th>\n",
       "      <td>181</td>\n",
       "    </tr>\n",
       "    <tr>\n",
       "      <th>2</th>\n",
       "      <td>179</td>\n",
       "    </tr>\n",
       "    <tr>\n",
       "      <th>3</th>\n",
       "      <td>181</td>\n",
       "    </tr>\n",
       "    <tr>\n",
       "      <th>4</th>\n",
       "      <td>181</td>\n",
       "    </tr>\n",
       "    <tr>\n",
       "      <th>...</th>\n",
       "      <td>...</td>\n",
       "    </tr>\n",
       "    <tr>\n",
       "      <th>10122</th>\n",
       "      <td>252</td>\n",
       "    </tr>\n",
       "    <tr>\n",
       "      <th>10123</th>\n",
       "      <td>20</td>\n",
       "    </tr>\n",
       "    <tr>\n",
       "      <th>10124</th>\n",
       "      <td>252</td>\n",
       "    </tr>\n",
       "    <tr>\n",
       "      <th>10125</th>\n",
       "      <td>297</td>\n",
       "    </tr>\n",
       "    <tr>\n",
       "      <th>10126</th>\n",
       "      <td>29</td>\n",
       "    </tr>\n",
       "  </tbody>\n",
       "</table>\n",
       "<p>10127 rows × 1 columns</p>\n",
       "</div>"
      ],
      "text/plain": [
       "       Locality\n",
       "0           252\n",
       "1           181\n",
       "2           179\n",
       "3           181\n",
       "4           181\n",
       "...         ...\n",
       "10122       252\n",
       "10123        20\n",
       "10124       252\n",
       "10125       297\n",
       "10126        29\n",
       "\n",
       "[10127 rows x 1 columns]"
      ]
     },
     "execution_count": 115,
     "metadata": {},
     "output_type": "execute_result"
    }
   ],
   "source": [
    "# transform data via LabelEncoder\n",
    "from sklearn.preprocessing import LabelEncoder\n",
    "new_dict['Locality'] = LabelEncoder().fit_transform(new_dict['Locality'])\n",
    "new_dict[['Locality']]"
   ]
  },
  {
   "cell_type": "code",
   "execution_count": 116,
   "metadata": {},
   "outputs": [
    {
     "name": "stdout",
     "output_type": "stream",
     "text": [
      "   Furnished  Terrace  Garden\n",
      "0          0        1       0\n",
      "1          1        1       0\n",
      "2          0        0       0\n",
      "3          0        0       0\n",
      "4          1        1       0\n"
     ]
    }
   ],
   "source": [
    "# encode binary values of multiple columns\n",
    "from sklearn import preprocessing\n",
    "lb = preprocessing.LabelBinarizer()\n",
    "binary_cols_to_encode = ['Furnished','Terrace', 'Garden']\n",
    "for var in binary_cols_to_encode:\n",
    "    new_dict[var] = lb.fit_transform(new_dict[var])\n",
    "print(new_dict[['Furnished','Terrace', 'Garden']].head())"
   ]
  },
  {
   "cell_type": "code",
   "execution_count": 117,
   "metadata": {},
   "outputs": [
    {
     "name": "stdout",
     "output_type": "stream",
     "text": [
      "         ID  Locality      Price  Bedrooms  Living area        Kitchen type  \\\n",
      "0  10166459       252   275000.0       2.0         67.0       Not installed   \n",
      "1  10096893       181  3195000.0       3.0        140.0  USA hyper equipped   \n",
      "2  10292307       179   595000.0       2.0         94.0       Not installed   \n",
      "3  10111765       181  1850000.0       3.0        125.0       Not installed   \n",
      "4  10124022       181   325000.0       2.0         66.0      Hyper equipped   \n",
      "\n",
      "   Furnished  How many fireplaces?  Terrace  Terrace surface  Garden  \\\n",
      "0          0                   0.0        1             13.0       0   \n",
      "1          1                   0.0        1              0.0       0   \n",
      "2          0                   0.0        0              0.0       0   \n",
      "3          0                   0.0        0              0.0       0   \n",
      "4          1                   0.0        1              0.0       0   \n",
      "\n",
      "   Garden surface  Surface of the plot  Number of frontages  \\\n",
      "0             0.0                 67.0                  0.0   \n",
      "1             0.0                140.0                  2.0   \n",
      "2             0.0                 94.0                  0.0   \n",
      "3             0.0                125.0                  0.0   \n",
      "4             0.0                 66.0                  2.0   \n",
      "\n",
      "  Building condition       Type  Subtype  Type of sale  \n",
      "0         To restore  apartment        0             3  \n",
      "1             As new  apartment        0             3  \n",
      "2         To restore  apartment        0             3  \n",
      "3     Just renovated  apartment        0             3  \n",
      "4     Just renovated  apartment        0             3  \n"
     ]
    }
   ],
   "source": [
    "# use LabelEncoder for multiple columns\n",
    "encoding_pipeline =  LabelEncoder()\n",
    "cols_to_encode = ['Subtype','Type of sale']\n",
    "for x in cols_to_encode:\n",
    "     new_dict[x] = encoding_pipeline.fit_transform(new_dict[x])\n",
    "print(new_dict.head())"
   ]
  },
  {
   "attachments": {},
   "cell_type": "markdown",
   "metadata": {},
   "source": [
    "### Encode column 'Type' by defining a dictionary of key, value pairs"
   ]
  },
  {
   "cell_type": "code",
   "execution_count": 118,
   "metadata": {},
   "outputs": [
    {
     "data": {
      "text/html": [
       "<div>\n",
       "<style scoped>\n",
       "    .dataframe tbody tr th:only-of-type {\n",
       "        vertical-align: middle;\n",
       "    }\n",
       "\n",
       "    .dataframe tbody tr th {\n",
       "        vertical-align: top;\n",
       "    }\n",
       "\n",
       "    .dataframe thead th {\n",
       "        text-align: right;\n",
       "    }\n",
       "</style>\n",
       "<table border=\"1\" class=\"dataframe\">\n",
       "  <thead>\n",
       "    <tr style=\"text-align: right;\">\n",
       "      <th></th>\n",
       "      <th>ID</th>\n",
       "      <th>Locality</th>\n",
       "      <th>Price</th>\n",
       "      <th>Bedrooms</th>\n",
       "      <th>Living area</th>\n",
       "      <th>Kitchen type</th>\n",
       "      <th>Furnished</th>\n",
       "      <th>How many fireplaces?</th>\n",
       "      <th>Terrace</th>\n",
       "      <th>Terrace surface</th>\n",
       "      <th>Garden</th>\n",
       "      <th>Garden surface</th>\n",
       "      <th>Surface of the plot</th>\n",
       "      <th>Number of frontages</th>\n",
       "      <th>Building condition</th>\n",
       "      <th>Type</th>\n",
       "      <th>Subtype</th>\n",
       "      <th>Type of sale</th>\n",
       "    </tr>\n",
       "  </thead>\n",
       "  <tbody>\n",
       "    <tr>\n",
       "      <th>0</th>\n",
       "      <td>10166459</td>\n",
       "      <td>252</td>\n",
       "      <td>275000.0</td>\n",
       "      <td>2.0</td>\n",
       "      <td>67.0</td>\n",
       "      <td>Not installed</td>\n",
       "      <td>0</td>\n",
       "      <td>0.0</td>\n",
       "      <td>1</td>\n",
       "      <td>13.0</td>\n",
       "      <td>0</td>\n",
       "      <td>0.0</td>\n",
       "      <td>67.0</td>\n",
       "      <td>0.0</td>\n",
       "      <td>To restore</td>\n",
       "      <td>1</td>\n",
       "      <td>0</td>\n",
       "      <td>3</td>\n",
       "    </tr>\n",
       "    <tr>\n",
       "      <th>1</th>\n",
       "      <td>10096893</td>\n",
       "      <td>181</td>\n",
       "      <td>3195000.0</td>\n",
       "      <td>3.0</td>\n",
       "      <td>140.0</td>\n",
       "      <td>USA hyper equipped</td>\n",
       "      <td>1</td>\n",
       "      <td>0.0</td>\n",
       "      <td>1</td>\n",
       "      <td>0.0</td>\n",
       "      <td>0</td>\n",
       "      <td>0.0</td>\n",
       "      <td>140.0</td>\n",
       "      <td>2.0</td>\n",
       "      <td>As new</td>\n",
       "      <td>1</td>\n",
       "      <td>0</td>\n",
       "      <td>3</td>\n",
       "    </tr>\n",
       "    <tr>\n",
       "      <th>2</th>\n",
       "      <td>10292307</td>\n",
       "      <td>179</td>\n",
       "      <td>595000.0</td>\n",
       "      <td>2.0</td>\n",
       "      <td>94.0</td>\n",
       "      <td>Not installed</td>\n",
       "      <td>0</td>\n",
       "      <td>0.0</td>\n",
       "      <td>0</td>\n",
       "      <td>0.0</td>\n",
       "      <td>0</td>\n",
       "      <td>0.0</td>\n",
       "      <td>94.0</td>\n",
       "      <td>0.0</td>\n",
       "      <td>To restore</td>\n",
       "      <td>1</td>\n",
       "      <td>0</td>\n",
       "      <td>3</td>\n",
       "    </tr>\n",
       "    <tr>\n",
       "      <th>3</th>\n",
       "      <td>10111765</td>\n",
       "      <td>181</td>\n",
       "      <td>1850000.0</td>\n",
       "      <td>3.0</td>\n",
       "      <td>125.0</td>\n",
       "      <td>Not installed</td>\n",
       "      <td>0</td>\n",
       "      <td>0.0</td>\n",
       "      <td>0</td>\n",
       "      <td>0.0</td>\n",
       "      <td>0</td>\n",
       "      <td>0.0</td>\n",
       "      <td>125.0</td>\n",
       "      <td>0.0</td>\n",
       "      <td>Just renovated</td>\n",
       "      <td>1</td>\n",
       "      <td>0</td>\n",
       "      <td>3</td>\n",
       "    </tr>\n",
       "    <tr>\n",
       "      <th>4</th>\n",
       "      <td>10124022</td>\n",
       "      <td>181</td>\n",
       "      <td>325000.0</td>\n",
       "      <td>2.0</td>\n",
       "      <td>66.0</td>\n",
       "      <td>Hyper equipped</td>\n",
       "      <td>1</td>\n",
       "      <td>0.0</td>\n",
       "      <td>1</td>\n",
       "      <td>0.0</td>\n",
       "      <td>0</td>\n",
       "      <td>0.0</td>\n",
       "      <td>66.0</td>\n",
       "      <td>2.0</td>\n",
       "      <td>Just renovated</td>\n",
       "      <td>1</td>\n",
       "      <td>0</td>\n",
       "      <td>3</td>\n",
       "    </tr>\n",
       "  </tbody>\n",
       "</table>\n",
       "</div>"
      ],
      "text/plain": [
       "         ID  Locality      Price  Bedrooms  Living area        Kitchen type  \\\n",
       "0  10166459       252   275000.0       2.0         67.0       Not installed   \n",
       "1  10096893       181  3195000.0       3.0        140.0  USA hyper equipped   \n",
       "2  10292307       179   595000.0       2.0         94.0       Not installed   \n",
       "3  10111765       181  1850000.0       3.0        125.0       Not installed   \n",
       "4  10124022       181   325000.0       2.0         66.0      Hyper equipped   \n",
       "\n",
       "   Furnished  How many fireplaces?  Terrace  Terrace surface  Garden  \\\n",
       "0          0                   0.0        1             13.0       0   \n",
       "1          1                   0.0        1              0.0       0   \n",
       "2          0                   0.0        0              0.0       0   \n",
       "3          0                   0.0        0              0.0       0   \n",
       "4          1                   0.0        1              0.0       0   \n",
       "\n",
       "   Garden surface  Surface of the plot  Number of frontages  \\\n",
       "0             0.0                 67.0                  0.0   \n",
       "1             0.0                140.0                  2.0   \n",
       "2             0.0                 94.0                  0.0   \n",
       "3             0.0                125.0                  0.0   \n",
       "4             0.0                 66.0                  2.0   \n",
       "\n",
       "  Building condition  Type  Subtype  Type of sale  \n",
       "0         To restore     1        0             3  \n",
       "1             As new     1        0             3  \n",
       "2         To restore     1        0             3  \n",
       "3     Just renovated     1        0             3  \n",
       "4     Just renovated     1        0             3  "
      ]
     },
     "execution_count": 118,
     "metadata": {},
     "output_type": "execute_result"
    }
   ],
   "source": [
    "new_dict['Type'] = new_dict['Type'].map(dict(apartment=1, house=0))\n",
    "new_dict.head()"
   ]
  },
  {
   "cell_type": "code",
   "execution_count": 119,
   "metadata": {},
   "outputs": [
    {
     "data": {
      "text/plain": [
       "Kitchen type\n",
       "0               4161\n",
       "1               3265\n",
       "2               1056\n",
       "3                712\n",
       "4                592\n",
       "5                263\n",
       "6                 73\n",
       "7                  5\n",
       "dtype: int64"
      ]
     },
     "execution_count": 119,
     "metadata": {},
     "output_type": "execute_result"
    }
   ],
   "source": [
    "# transform data via created map dictionary\n",
    "new_dict['Kitchen type'] = new_dict['Kitchen type'].map( {'Not installed':0, 'Installed':1, 'Hyper equipped':2, \n",
    "                                                                'Sei equipped':3, 'USA hyper equipped':4, 'USA installed':5, 'USA sei equipped':6, 'USA uninstalled':7 })\n",
    "new_dict[['Kitchen type']].value_counts()"
   ]
  },
  {
   "cell_type": "code",
   "execution_count": 120,
   "metadata": {},
   "outputs": [
    {
     "name": "stdout",
     "output_type": "stream",
     "text": [
      "{'Building condition': {'As new': 1, 'Good': 2, 'Just renovated': 3, 'To be done up': 4, 'To renovate': 5, 'To restore': 6}}\n"
     ]
    }
   ],
   "source": [
    "# create dictionary from distinct column values\n",
    "labels = new_dict['Building condition'].astype('category').cat.categories.tolist()\n",
    "replace_map_comp = {'Building condition' : {k: v for k,v in zip(labels,list(range(1,len(labels)+1)))}}\n",
    "print(replace_map_comp)"
   ]
  },
  {
   "cell_type": "code",
   "execution_count": 121,
   "metadata": {},
   "outputs": [
    {
     "name": "stdout",
     "output_type": "stream",
     "text": [
      "         ID  Building condition\n",
      "0  10166459                   6\n",
      "1  10096893                   1\n",
      "2  10292307                   6\n",
      "3  10111765                   3\n",
      "4  10124022                   3\n"
     ]
    }
   ],
   "source": [
    "# replace column values with values from the newly created map\n",
    "new_dict.replace(replace_map_comp, inplace=True)\n",
    "print(new_dict[[\"ID\",'Building condition']].head())"
   ]
  },
  {
   "attachments": {},
   "cell_type": "markdown",
   "metadata": {},
   "source": [
    "### Check if now all values of the Data Frame are numeric"
   ]
  },
  {
   "cell_type": "code",
   "execution_count": 125,
   "metadata": {},
   "outputs": [
    {
     "name": "stdout",
     "output_type": "stream",
     "text": [
      "         ID  Locality      Price  Bedrooms  Living area  Kitchen type  \\\n",
      "0  10166459       252   275000.0       2.0         67.0             0   \n",
      "1  10096893       181  3195000.0       3.0        140.0             4   \n",
      "2  10292307       179   595000.0       2.0         94.0             0   \n",
      "3  10111765       181  1850000.0       3.0        125.0             0   \n",
      "4  10124022       181   325000.0       2.0         66.0             2   \n",
      "\n",
      "   Furnished  How many fireplaces?  Terrace  Terrace surface  Garden  \\\n",
      "0          0                   0.0        1             13.0       0   \n",
      "1          1                   0.0        1              0.0       0   \n",
      "2          0                   0.0        0              0.0       0   \n",
      "3          0                   0.0        0              0.0       0   \n",
      "4          1                   0.0        1              0.0       0   \n",
      "\n",
      "   Garden surface  Surface of the plot  Number of frontages  \\\n",
      "0             0.0                 67.0                  0.0   \n",
      "1             0.0                140.0                  2.0   \n",
      "2             0.0                 94.0                  0.0   \n",
      "3             0.0                125.0                  0.0   \n",
      "4             0.0                 66.0                  2.0   \n",
      "\n",
      "   Building condition  Type  Subtype  Type of sale  \n",
      "0                   6     1        0             3  \n",
      "1                   1     1        0             3  \n",
      "2                   6     1        0             3  \n",
      "3                   3     1        0             3  \n",
      "4                   3     1        0             3  \n"
     ]
    }
   ],
   "source": [
    "print(new_dict.head())"
   ]
  },
  {
   "attachments": {},
   "cell_type": "markdown",
   "metadata": {},
   "source": [
    "### Save data to text csv file"
   ]
  },
  {
   "cell_type": "code",
   "execution_count": 126,
   "metadata": {},
   "outputs": [],
   "source": [
    "with open('/home/becode/Downloads/page_3.csv','w') as f:\n",
    "    new_dict.to_csv('/home/becode/Downloads/page_3.csv', index=False)"
   ]
  }
 ],
 "metadata": {
  "kernelspec": {
   "display_name": "Python 3",
   "language": "python",
   "name": "python3"
  },
  "language_info": {
   "codemirror_mode": {
    "name": "ipython",
    "version": 3
   },
   "file_extension": ".py",
   "mimetype": "text/x-python",
   "name": "python",
   "nbconvert_exporter": "python",
   "pygments_lexer": "ipython3",
   "version": "3.8.10 (default, Nov 14 2022, 12:59:47) \n[GCC 9.4.0]"
  },
  "orig_nbformat": 4,
  "vscode": {
   "interpreter": {
    "hash": "916dbcbb3f70747c44a77c7bcd40155683ae19c65e1c03b4aa3499c5328201f1"
   }
  }
 },
 "nbformat": 4,
 "nbformat_minor": 2
}
