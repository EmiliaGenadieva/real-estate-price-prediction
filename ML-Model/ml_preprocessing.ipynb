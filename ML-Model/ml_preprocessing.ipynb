{
 "cells": [
  {
   "attachments": {},
   "cell_type": "markdown",
   "metadata": {},
   "source": [
    "### Import the csv file, check for null values"
   ]
  },
  {
   "cell_type": "code",
   "execution_count": 3,
   "metadata": {},
   "outputs": [
    {
     "name": "stdout",
     "output_type": "stream",
     "text": [
      "ID                          0\n",
      "Locality                    0\n",
      "PricePr                     0\n",
      "Tenement building         161\n",
      "Venue of the sale        9972\n",
      "Bedrooms                  428\n",
      "Living area              1592\n",
      "Kitchen type             3668\n",
      "Furnished                2989\n",
      "How many fireplaces?     9878\n",
      "Terrace                  7750\n",
      "Terrace surface          6861\n",
      "Garden                   9325\n",
      "Garden surface           8701\n",
      "Surface of the plot      6588\n",
      "Number of frontages      3252\n",
      "Swimming pool           10127\n",
      "Building condition       2962\n",
      "Type                        0\n",
      "Subtype                     0\n",
      "dtype: int64\n"
     ]
    }
   ],
   "source": [
    "import pandas as pd\n",
    "import numpy as np\n",
    "\n",
    "with open('/home/becode/Downloads/page_2.csv') as f:\n",
    "    new_dict = pd.read_csv('/home/becode/Downloads/page_2.csv')\n",
    "print(new_dict.isna().sum())"
   ]
  },
  {
   "attachments": {},
   "cell_type": "markdown",
   "metadata": {},
   "source": [
    "# Observation: many columns have null values"
   ]
  },
  {
   "cell_type": "code",
   "execution_count": 4,
   "metadata": {},
   "outputs": [],
   "source": [
    "# rename the 'PricePr' column\n",
    "new_dict.rename(columns={\"PricePr\": \"Price\"}, errors=\"raise\", inplace=True)"
   ]
  },
  {
   "cell_type": "code",
   "execution_count": 5,
   "metadata": {},
   "outputs": [
    {
     "name": "stdout",
     "output_type": "stream",
     "text": [
      "No     9291\n",
      "Yes     675\n",
      "Name: Tenement building, dtype: int64\n",
      "new    155\n",
      "Name: Venue of the sale, dtype: int64\n",
      "161\n",
      "9972\n"
     ]
    }
   ],
   "source": [
    "#check the values for the 2 columns which need to be merged together 'Tenement building' & 'Venue of the sale'\n",
    "for index, row in new_dict.iterrows():\n",
    "    if not(pd.isna(new_dict.loc[index,'Venue of the sale'])):\n",
    "        new_dict.loc[index,\"Venue of the sale\"] = 'new'\n",
    "print(new_dict['Tenement building'].value_counts())\n",
    "print(new_dict['Venue of the sale'].value_counts())\n",
    "print(new_dict['Tenement building'].isna().sum())\n",
    "print(new_dict['Venue of the sale'].isna().sum())"
   ]
  },
  {
   "cell_type": "code",
   "execution_count": 6,
   "metadata": {},
   "outputs": [
    {
     "name": "stdout",
     "output_type": "stream",
     "text": [
      "none           9312\n",
      "Tenement        660\n",
      "new             140\n",
      "TenementNew      15\n",
      "Name: Type of sale, dtype: int64\n"
     ]
    }
   ],
   "source": [
    "# Creation of the new column 'Type of sale', which will replace the 2 previous ones\n",
    "new_dict['Type of sale'] = new_dict['Tenement building'].astype(str) + new_dict['Venue of the sale'].astype(str)\n",
    "for index, row in new_dict.iterrows():\n",
    "    if new_dict.loc[index,'Type of sale']=='Nonan' or new_dict.loc[index,'Type of sale']=='nannan':\n",
    "        new_dict.loc[index,\"Type of sale\"] = 'none'\n",
    "    if new_dict.loc[index,'Type of sale']=='Yesnan':\n",
    "        new_dict.loc[index,\"Type of sale\"] = 'Tenement'\n",
    "    if new_dict.loc[index,'Type of sale']=='Yesnew':\n",
    "        new_dict.loc[index,\"Type of sale\"] = 'TenementNew'\n",
    "    if new_dict.loc[index,'Type of sale']=='Nonew':\n",
    "        new_dict.loc[index,\"Type of sale\"] = 'new'\n",
    "print(new_dict['Type of sale'].value_counts())\n"
   ]
  },
  {
   "attachments": {},
   "cell_type": "markdown",
   "metadata": {},
   "source": [
    "# Remove unnecessary columns from the dataset\n",
    "'Swimming pool' has only null values, it will not influence the result of the model"
   ]
  },
  {
   "cell_type": "code",
   "execution_count": 7,
   "metadata": {},
   "outputs": [],
   "source": [
    "new_dict.drop(['Tenement building', 'Venue of the sale', 'Swimming pool'], axis = 1, inplace=True)"
   ]
  },
  {
   "attachments": {},
   "cell_type": "markdown",
   "metadata": {},
   "source": [
    "### Display distinct values in 'ID', 'Type of sale', 'Building condition'"
   ]
  },
  {
   "cell_type": "code",
   "execution_count": 8,
   "metadata": {},
   "outputs": [
    {
     "name": "stdout",
     "output_type": "stream",
     "text": [
      "none           9312\n",
      "Tenement        660\n",
      "new             140\n",
      "TenementNew      15\n",
      "Name: Type of sale, dtype: int64\n"
     ]
    }
   ],
   "source": [
    "dict2 = new_dict[['ID', 'Type of sale', 'Building condition']]\n",
    "print(dict2['Type of sale'].value_counts())"
   ]
  },
  {
   "attachments": {},
   "cell_type": "markdown",
   "metadata": {},
   "source": [
    "### Check in small chunks for null values in columns"
   ]
  },
  {
   "cell_type": "code",
   "execution_count": 9,
   "metadata": {},
   "outputs": [
    {
     "name": "stdout",
     "output_type": "stream",
     "text": [
      "Garden             802\n",
      "Garden surface    1426\n",
      "dtype: int64\n",
      "Garden            9325\n",
      "Garden surface    8701\n",
      "dtype: int64\n",
      "Garden\n",
      "Yes       802\n",
      "dtype: int64\n"
     ]
    }
   ],
   "source": [
    "dict3 = new_dict[['ID', 'Garden surface', 'Garden', 'Terrace surface', 'Terrace']]\n",
    "# display sum of rows, which are not null\n",
    "print((~dict3[['Garden','Garden surface']].isnull()).sum())\n",
    "# show all null vallues in the subset 'Garden','Garden surface' columns\n",
    "print(dict3[['Garden','Garden surface']].isnull().sum())\n",
    "# give all distinct values in 'Garden'\n",
    "print(dict3[['Garden']].value_counts())"
   ]
  },
  {
   "attachments": {},
   "cell_type": "markdown",
   "metadata": {},
   "source": [
    "### Update bunch all the rest of the columns to remove null values, which are not necessary for model processing"
   ]
  },
  {
   "cell_type": "code",
   "execution_count": 10,
   "metadata": {},
   "outputs": [],
   "source": [
    "for index, row in new_dict.iterrows():\n",
    "    if not(pd.isna(new_dict.loc[index,'Garden surface'])) & (pd.isna(new_dict.loc[index,'Garden'])): \n",
    "        new_dict.loc[index,\"Garden\"] = 'Yes'\n",
    "    else:\n",
    "        new_dict.loc[index,\"Garden\"] = 'No'\n",
    "    if not(pd.isna(new_dict.loc[index,'Terrace surface'])) & (pd.isna(new_dict.loc[index,'Terrace'])): \n",
    "        new_dict.loc[index,\"Terrace\"] = 'Yes'\n",
    "    else:\n",
    "        new_dict.loc[index,\"Terrace\"] = 'No'\n",
    "    if pd.isna(new_dict.loc[index,'Garden surface']): \n",
    "        new_dict.loc[index,\"Garden surface\"] = 0\n",
    "    if pd.isna(new_dict.loc[index,'Terrace surface']): \n",
    "        new_dict.loc[index,\"Terrace surface\"] = 0\n",
    "    if pd.isna(new_dict.loc[index,'Bedrooms']): \n",
    "        new_dict.loc[index,\"Bedrooms\"] = np.mean(new_dict[\"Bedrooms\"])\n",
    "    if pd.isna(new_dict.loc[index,'Living area']): \n",
    "        new_dict.loc[index,\"Living area\"] = np.mean(new_dict[\"Living area\"])\n",
    "    if pd.isna(new_dict.loc[index,'Number of frontages']): \n",
    "        new_dict.loc[index,\"Number of frontages\"] = 0\n",
    "    if pd.isna(new_dict.loc[index,'How many fireplaces?']): \n",
    "        new_dict.loc[index,\"How many fireplaces?\"] = 0\n",
    "    if pd.isna(new_dict.loc[index,'Surface of the plot']): \n",
    "        new_dict.loc[index,\"Surface of the plot\"] = new_dict.loc[index,\"Living area\"]\n",
    "    if not(pd.isna(new_dict.loc[index,'Kitchen type'])) & (pd.isna(new_dict.loc[index,'Furnished'])): \n",
    "        new_dict.loc[index,\"Furnished\"] = 'Yes'\n",
    "    else:\n",
    "        new_dict.loc[index,\"Furnished\"] = 'No'\n",
    "    if pd.isna(new_dict.loc[index,'Kitchen type']): \n",
    "        new_dict.loc[index,\"Kitchen type\"] = 'Not installed'\n",
    "    if pd.isna(new_dict.loc[index,'Building condition']): \n",
    "        new_dict.loc[index,\"Building condition\"] = 'To restore'"
   ]
  },
  {
   "cell_type": "code",
   "execution_count": 11,
   "metadata": {},
   "outputs": [
    {
     "name": "stdout",
     "output_type": "stream",
     "text": [
      "ID                      0\n",
      "Locality                0\n",
      "Price                   0\n",
      "Bedrooms                0\n",
      "Living area             0\n",
      "Kitchen type            0\n",
      "Furnished               0\n",
      "How many fireplaces?    0\n",
      "Terrace                 0\n",
      "Terrace surface         0\n",
      "Garden                  0\n",
      "Garden surface          0\n",
      "Surface of the plot     0\n",
      "Number of frontages     0\n",
      "Building condition      0\n",
      "Type                    0\n",
      "Subtype                 0\n",
      "Type of sale            0\n",
      "dtype: int64\n"
     ]
    }
   ],
   "source": [
    "# check again for remaining null values - np.NaN\n",
    "print(new_dict.isna().sum())"
   ]
  },
  {
   "attachments": {},
   "cell_type": "markdown",
   "metadata": {},
   "source": [
    "### Save the clean data to csv file. Check the length of the rows in the file"
   ]
  },
  {
   "cell_type": "code",
   "execution_count": 12,
   "metadata": {},
   "outputs": [
    {
     "name": "stdout",
     "output_type": "stream",
     "text": [
      "10127\n"
     ]
    }
   ],
   "source": [
    "with open('/home/becode/Downloads/page_1.csv','w') as f:\n",
    "    new_dict.to_csv('/home/becode/Downloads/page_1.csv', index=False)\n",
    "\n",
    "print(len(new_dict))"
   ]
  }
 ],
 "metadata": {
  "kernelspec": {
   "display_name": "Python 3",
   "language": "python",
   "name": "python3"
  },
  "language_info": {
   "codemirror_mode": {
    "name": "ipython",
    "version": 3
   },
   "file_extension": ".py",
   "mimetype": "text/x-python",
   "name": "python",
   "nbconvert_exporter": "python",
   "pygments_lexer": "ipython3",
   "version": "3.8.10"
  },
  "orig_nbformat": 4,
  "vscode": {
   "interpreter": {
    "hash": "916dbcbb3f70747c44a77c7bcd40155683ae19c65e1c03b4aa3499c5328201f1"
   }
  }
 },
 "nbformat": 4,
 "nbformat_minor": 2
}
