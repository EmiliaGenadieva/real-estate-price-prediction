{
 "cells": [
  {
   "cell_type": "code",
   "execution_count": 1,
   "metadata": {},
   "outputs": [
    {
     "data": {
      "text/html": [
       "<div>\n",
       "<style scoped>\n",
       "    .dataframe tbody tr th:only-of-type {\n",
       "        vertical-align: middle;\n",
       "    }\n",
       "\n",
       "    .dataframe tbody tr th {\n",
       "        vertical-align: top;\n",
       "    }\n",
       "\n",
       "    .dataframe thead th {\n",
       "        text-align: right;\n",
       "    }\n",
       "</style>\n",
       "<table border=\"1\" class=\"dataframe\">\n",
       "  <thead>\n",
       "    <tr style=\"text-align: right;\">\n",
       "      <th></th>\n",
       "      <th>Price</th>\n",
       "      <th>Living area</th>\n",
       "      <th>Bedrooms</th>\n",
       "      <th>Surface of the plot</th>\n",
       "    </tr>\n",
       "  </thead>\n",
       "  <tbody>\n",
       "    <tr>\n",
       "      <th>2629</th>\n",
       "      <td>299000.0</td>\n",
       "      <td>138.0</td>\n",
       "      <td>2.0</td>\n",
       "      <td>882.0</td>\n",
       "    </tr>\n",
       "    <tr>\n",
       "      <th>2630</th>\n",
       "      <td>240000.0</td>\n",
       "      <td>88.0</td>\n",
       "      <td>2.0</td>\n",
       "      <td>192.0</td>\n",
       "    </tr>\n",
       "    <tr>\n",
       "      <th>2631</th>\n",
       "      <td>270000.0</td>\n",
       "      <td>158.0</td>\n",
       "      <td>3.0</td>\n",
       "      <td>295.0</td>\n",
       "    </tr>\n",
       "    <tr>\n",
       "      <th>2632</th>\n",
       "      <td>209000.0</td>\n",
       "      <td>125.0</td>\n",
       "      <td>3.0</td>\n",
       "      <td>299.0</td>\n",
       "    </tr>\n",
       "    <tr>\n",
       "      <th>2633</th>\n",
       "      <td>249000.0</td>\n",
       "      <td>201.0</td>\n",
       "      <td>2.0</td>\n",
       "      <td>95.0</td>\n",
       "    </tr>\n",
       "  </tbody>\n",
       "</table>\n",
       "</div>"
      ],
      "text/plain": [
       "         Price  Living area  Bedrooms  Surface of the plot\n",
       "2629  299000.0        138.0       2.0                882.0\n",
       "2630  240000.0         88.0       2.0                192.0\n",
       "2631  270000.0        158.0       3.0                295.0\n",
       "2632  209000.0        125.0       3.0                299.0\n",
       "2633  249000.0        201.0       2.0                 95.0"
      ]
     },
     "execution_count": 1,
     "metadata": {},
     "output_type": "execute_result"
    }
   ],
   "source": [
    "import pandas as pd\n",
    "import numpy as np\n",
    "from sklearn.model_selection import train_test_split\n",
    "with open('/home/becode/Downloads/page_1.csv') as f:\n",
    "    new_dict1 = pd.read_csv('/home/becode/Downloads/page_1.csv')\n",
    "new_dict1 = new_dict1[new_dict1['Type'] == 'house']\n",
    "new_dict1= new_dict1[new_dict1['Price'] < 800000]\n",
    "new_dict1.dropna(subset = [\"Price\", \"Living area\", 'Kitchen type', 'Type',  \"Bedrooms\", 'Surface of the plot'], axis=0, inplace = True)\n",
    "#new_dict1.drop([\"How many fireplaces?\", \"ID\", 'Locality', 'Type'], axis=1, inplace = True)\n",
    "new_dict = new_dict1[[\"Price\", \"Living area\", \"Bedrooms\", 'Surface of the plot']]\n",
    "new_dict.head()"
   ]
  },
  {
   "cell_type": "code",
   "execution_count": 2,
   "metadata": {},
   "outputs": [
    {
     "name": "stdout",
     "output_type": "stream",
     "text": [
      "There are 4184 rows of data\n",
      "Price                  float64\n",
      "Living area            float64\n",
      "Bedrooms               float64\n",
      "Surface of the plot    float64\n",
      "dtype: object\n"
     ]
    }
   ],
   "source": [
    "print(\"There are {} rows of data\".format(len(new_dict)))\n",
    "print(new_dict.dtypes)"
   ]
  },
  {
   "cell_type": "code",
   "execution_count": 3,
   "metadata": {},
   "outputs": [
    {
     "name": "stdout",
     "output_type": "stream",
     "text": [
      "There are 4184 rows of data\n"
     ]
    },
    {
     "data": {
      "text/html": [
       "<div>\n",
       "<style scoped>\n",
       "    .dataframe tbody tr th:only-of-type {\n",
       "        vertical-align: middle;\n",
       "    }\n",
       "\n",
       "    .dataframe tbody tr th {\n",
       "        vertical-align: top;\n",
       "    }\n",
       "\n",
       "    .dataframe thead th {\n",
       "        text-align: right;\n",
       "    }\n",
       "</style>\n",
       "<table border=\"1\" class=\"dataframe\">\n",
       "  <thead>\n",
       "    <tr style=\"text-align: right;\">\n",
       "      <th></th>\n",
       "      <th>Price</th>\n",
       "      <th>Living area</th>\n",
       "      <th>Bedrooms</th>\n",
       "      <th>Surface of the plot</th>\n",
       "    </tr>\n",
       "  </thead>\n",
       "  <tbody>\n",
       "    <tr>\n",
       "      <th>2629</th>\n",
       "      <td>299000.0</td>\n",
       "      <td>138.0</td>\n",
       "      <td>2.0</td>\n",
       "      <td>882.0</td>\n",
       "    </tr>\n",
       "    <tr>\n",
       "      <th>2630</th>\n",
       "      <td>240000.0</td>\n",
       "      <td>88.0</td>\n",
       "      <td>2.0</td>\n",
       "      <td>192.0</td>\n",
       "    </tr>\n",
       "    <tr>\n",
       "      <th>2631</th>\n",
       "      <td>270000.0</td>\n",
       "      <td>158.0</td>\n",
       "      <td>3.0</td>\n",
       "      <td>295.0</td>\n",
       "    </tr>\n",
       "    <tr>\n",
       "      <th>2632</th>\n",
       "      <td>209000.0</td>\n",
       "      <td>125.0</td>\n",
       "      <td>3.0</td>\n",
       "      <td>299.0</td>\n",
       "    </tr>\n",
       "    <tr>\n",
       "      <th>2633</th>\n",
       "      <td>249000.0</td>\n",
       "      <td>201.0</td>\n",
       "      <td>2.0</td>\n",
       "      <td>95.0</td>\n",
       "    </tr>\n",
       "  </tbody>\n",
       "</table>\n",
       "</div>"
      ],
      "text/plain": [
       "         Price  Living area  Bedrooms  Surface of the plot\n",
       "2629  299000.0        138.0       2.0                882.0\n",
       "2630  240000.0         88.0       2.0                192.0\n",
       "2631  270000.0        158.0       3.0                295.0\n",
       "2632  209000.0        125.0       3.0                299.0\n",
       "2633  249000.0        201.0       2.0                 95.0"
      ]
     },
     "execution_count": 3,
     "metadata": {},
     "output_type": "execute_result"
    }
   ],
   "source": [
    "#new_dict = new_dict[new_dict.loc[:]!=0].dropna()\n",
    "print(\"There are {} rows of data\".format(len(new_dict)))\n",
    "new_dict.head()"
   ]
  },
  {
   "cell_type": "code",
   "execution_count": 4,
   "metadata": {},
   "outputs": [
    {
     "name": "stdout",
     "output_type": "stream",
     "text": [
      "0.8124043470408098\n"
     ]
    }
   ],
   "source": [
    "import pandas as pd\n",
    "import numpy as np\n",
    "from sklearn.pipeline import Pipeline\n",
    "from sklearn.linear_model import LinearRegression\n",
    "from sklearn.ensemble import RandomForestRegressor\n",
    "from sklearn.preprocessing import OneHotEncoder\n",
    "from sklearn.preprocessing import StandardScaler\n",
    "from sklearn.preprocessing import PolynomialFeatures\n",
    "from sklearn.compose import ColumnTransformer\n",
    "from sklearn.model_selection import train_test_split\n",
    "with open('/home/becode/Downloads/page_1.csv') as f:\n",
    "    new_dict1 = pd.read_csv('/home/becode/Downloads/page_1.csv')\n",
    "new_dict1 = new_dict1[new_dict1['Type'] == 'house']\n",
    "new_dict1= new_dict1[new_dict1['Price'] < 800000]\n",
    "new_dict1.dropna(subset = [\"Price\", \"Living area\", 'Kitchen type', 'Type',  \"Bedrooms\", 'Surface of the plot'], axis=0, inplace = True)\n",
    "#new_dict1.drop([\"How many fireplaces?\", \"ID\", 'Locality', 'Type'], axis=1, inplace = True)\n",
    "new_dict = new_dict1[[\"Price\", \"Living area\", \"Bedrooms\", 'Surface of the plot']]\n",
    "# select the numeric columns and drop the y column 'Price'\n",
    "numeric_features = new_dict.select_dtypes(include=['float64'])\n",
    "numeric_features.drop('Price', axis=1, inplace=True)\n",
    "numeric_transformer = Pipeline(steps=[('poly',PolynomialFeatures(degree =2)), ('scaler', StandardScaler())])\n",
    "\n",
    "# fit the pipeline to train a model\n",
    "preprocessor = ColumnTransformer(transformers=[('num', numeric_transformer, numeric_features.columns.values)])\n",
    "rg_model = RandomForestRegressor()        \n",
    "pre = Pipeline(steps=[('preprocessor', preprocessor)])\n",
    "model = Pipeline(steps=[('preprocessor', preprocessor), ('classifier', rg_model)])\n",
    "\n",
    "X = new_dict.drop(['Price'], axis = 1)\n",
    "y = new_dict['Price']\n",
    "X_train, X_test, y_train, y_test = train_test_split(X, y, test_size = 0.33, shuffle = False, random_state = 0)\n",
    "#print(X_train.iloc[0])\n",
    "model.fit(X, y)\n",
    "model.score(X, y)\n",
    "\n",
    "rg_model.fit(X, y)\n",
    "print(rg_model.score(X, y))\n"
   ]
  },
  {
   "cell_type": "code",
   "execution_count": 2,
   "metadata": {},
   "outputs": [
    {
     "data": {
      "text/html": [
       "<style>#sk-container-id-1 {color: black;background-color: white;}#sk-container-id-1 pre{padding: 0;}#sk-container-id-1 div.sk-toggleable {background-color: white;}#sk-container-id-1 label.sk-toggleable__label {cursor: pointer;display: block;width: 100%;margin-bottom: 0;padding: 0.3em;box-sizing: border-box;text-align: center;}#sk-container-id-1 label.sk-toggleable__label-arrow:before {content: \"▸\";float: left;margin-right: 0.25em;color: #696969;}#sk-container-id-1 label.sk-toggleable__label-arrow:hover:before {color: black;}#sk-container-id-1 div.sk-estimator:hover label.sk-toggleable__label-arrow:before {color: black;}#sk-container-id-1 div.sk-toggleable__content {max-height: 0;max-width: 0;overflow: hidden;text-align: left;background-color: #f0f8ff;}#sk-container-id-1 div.sk-toggleable__content pre {margin: 0.2em;color: black;border-radius: 0.25em;background-color: #f0f8ff;}#sk-container-id-1 input.sk-toggleable__control:checked~div.sk-toggleable__content {max-height: 200px;max-width: 100%;overflow: auto;}#sk-container-id-1 input.sk-toggleable__control:checked~label.sk-toggleable__label-arrow:before {content: \"▾\";}#sk-container-id-1 div.sk-estimator input.sk-toggleable__control:checked~label.sk-toggleable__label {background-color: #d4ebff;}#sk-container-id-1 div.sk-label input.sk-toggleable__control:checked~label.sk-toggleable__label {background-color: #d4ebff;}#sk-container-id-1 input.sk-hidden--visually {border: 0;clip: rect(1px 1px 1px 1px);clip: rect(1px, 1px, 1px, 1px);height: 1px;margin: -1px;overflow: hidden;padding: 0;position: absolute;width: 1px;}#sk-container-id-1 div.sk-estimator {font-family: monospace;background-color: #f0f8ff;border: 1px dotted black;border-radius: 0.25em;box-sizing: border-box;margin-bottom: 0.5em;}#sk-container-id-1 div.sk-estimator:hover {background-color: #d4ebff;}#sk-container-id-1 div.sk-parallel-item::after {content: \"\";width: 100%;border-bottom: 1px solid gray;flex-grow: 1;}#sk-container-id-1 div.sk-label:hover label.sk-toggleable__label {background-color: #d4ebff;}#sk-container-id-1 div.sk-serial::before {content: \"\";position: absolute;border-left: 1px solid gray;box-sizing: border-box;top: 0;bottom: 0;left: 50%;z-index: 0;}#sk-container-id-1 div.sk-serial {display: flex;flex-direction: column;align-items: center;background-color: white;padding-right: 0.2em;padding-left: 0.2em;position: relative;}#sk-container-id-1 div.sk-item {position: relative;z-index: 1;}#sk-container-id-1 div.sk-parallel {display: flex;align-items: stretch;justify-content: center;background-color: white;position: relative;}#sk-container-id-1 div.sk-item::before, #sk-container-id-1 div.sk-parallel-item::before {content: \"\";position: absolute;border-left: 1px solid gray;box-sizing: border-box;top: 0;bottom: 0;left: 50%;z-index: -1;}#sk-container-id-1 div.sk-parallel-item {display: flex;flex-direction: column;z-index: 1;position: relative;background-color: white;}#sk-container-id-1 div.sk-parallel-item:first-child::after {align-self: flex-end;width: 50%;}#sk-container-id-1 div.sk-parallel-item:last-child::after {align-self: flex-start;width: 50%;}#sk-container-id-1 div.sk-parallel-item:only-child::after {width: 0;}#sk-container-id-1 div.sk-dashed-wrapped {border: 1px dashed gray;margin: 0 0.4em 0.5em 0.4em;box-sizing: border-box;padding-bottom: 0.4em;background-color: white;}#sk-container-id-1 div.sk-label label {font-family: monospace;font-weight: bold;display: inline-block;line-height: 1.2em;}#sk-container-id-1 div.sk-label-container {text-align: center;}#sk-container-id-1 div.sk-container {/* jupyter's `normalize.less` sets `[hidden] { display: none; }` but bootstrap.min.css set `[hidden] { display: none !important; }` so we also need the `!important` here to be able to override the default hidden behavior on the sphinx rendered scikit-learn.org. See: https://github.com/scikit-learn/scikit-learn/issues/21755 */display: inline-block !important;position: relative;}#sk-container-id-1 div.sk-text-repr-fallback {display: none;}</style><div id=\"sk-container-id-1\" class=\"sk-top-container\"><div class=\"sk-text-repr-fallback\"><pre>RandomForestRegressor()</pre><b>In a Jupyter environment, please rerun this cell to show the HTML representation or trust the notebook. <br />On GitHub, the HTML representation is unable to render, please try loading this page with nbviewer.org.</b></div><div class=\"sk-container\" hidden><div class=\"sk-item\"><div class=\"sk-estimator sk-toggleable\"><input class=\"sk-toggleable__control sk-hidden--visually\" id=\"sk-estimator-id-1\" type=\"checkbox\" checked><label for=\"sk-estimator-id-1\" class=\"sk-toggleable__label sk-toggleable__label-arrow\">RandomForestRegressor</label><div class=\"sk-toggleable__content\"><pre>RandomForestRegressor()</pre></div></div></div></div></div>"
      ],
      "text/plain": [
       "RandomForestRegressor()"
      ]
     },
     "execution_count": 2,
     "metadata": {},
     "output_type": "execute_result"
    }
   ],
   "source": [
    "import pandas as pd\n",
    "import numpy as np\n",
    "from sklearn.pipeline import Pipeline\n",
    "from sklearn.linear_model import LinearRegression\n",
    "from sklearn.ensemble import RandomForestRegressor\n",
    "from sklearn.preprocessing import OneHotEncoder\n",
    "from sklearn.preprocessing import StandardScaler\n",
    "from sklearn.preprocessing import PolynomialFeatures\n",
    "from sklearn.compose import ColumnTransformer\n",
    "with open('/home/becode/Downloads/page_1.csv') as f:\n",
    "    new_dict1 = pd.read_csv('/home/becode/Downloads/page_1.csv')\n",
    "new_dict1 = new_dict1[new_dict1['Type'] == 'house']\n",
    "new_dict1= new_dict1[new_dict1['Price'] < 800000]\n",
    "new_dict1.dropna(subset = [\"Price\", \"Living area\", 'Kitchen type', 'Type',  \"Bedrooms\", 'Surface of the plot'], axis=0, inplace = True)\n",
    "new_dict = new_dict1[[\"Price\", \"Living area\", \"Bedrooms\", 'Surface of the plot']]\n",
    "rg_model = RandomForestRegressor()        \n",
    "\n",
    "X = new_dict.drop(['Price'], axis = 1).values\n",
    "y = new_dict['Price'].values\n",
    "#model.fit(X, y)\n",
    "rg_model.fit(X, y)\n"
   ]
  },
  {
   "cell_type": "code",
   "execution_count": 15,
   "metadata": {},
   "outputs": [],
   "source": [
    "from pickle import dump, load\n",
    "import pickle as pk\n",
    "from skops.io import dumps, loads\n",
    "with open(\"filename.skops\", 'wb') as pickle_file:\n",
    "    pk.dump(rg_model, pickle_file)\n",
    "#dump(rg_model, \"filename.skops\")\n",
    "\n"
   ]
  },
  {
   "cell_type": "code",
   "execution_count": 21,
   "metadata": {},
   "outputs": [
    {
     "name": "stdout",
     "output_type": "stream",
     "text": [
      "Predicted price 292327€\n",
      "Predicted price 292327€\n"
     ]
    }
   ],
   "source": [
    "X_t = [[132, 2, 882]]\n",
    "with open('filename.skops', 'rb') as f: \n",
    "    clf = load(f)\n",
    "res1 = clf.predict(X_t)\n",
    "print('Predicted price ' + str(int(res1))+ '€')\n",
    "#X_t = {'Living area':67.0, 'Bedrooms':2.0, 'Surface of the plot': 67.0}\n",
    "res = rg_model.predict(X_t)\n",
    "print('Predicted price ' + str(int(res))+ '€')"
   ]
  },
  {
   "cell_type": "code",
   "execution_count": 8,
   "metadata": {},
   "outputs": [
    {
     "name": "stdout",
     "output_type": "stream",
     "text": [
      " * Serving Flask app '__main__'\n",
      " * Debug mode: off\n"
     ]
    },
    {
     "name": "stderr",
     "output_type": "stream",
     "text": [
      "WARNING: This is a development server. Do not use it in a production deployment. Use a production WSGI server instead.\n",
      " * Running on http://127.0.0.1:5000\n",
      "Press CTRL+C to quit\n",
      "127.0.0.1 - - [31/Jan/2023 12:39:26] \"GET /home HTTP/1.1\" 200 -\n",
      "127.0.0.1 - - [31/Jan/2023 12:39:34] \"POST /home HTTP/1.1\" 302 -\n",
      "127.0.0.1 - - [31/Jan/2023 12:39:34] \"GET /success/Predicted%20price%20290378€ HTTP/1.1\" 200 -\n"
     ]
    }
   ],
   "source": [
    "from flask import Flask, redirect, render_template, url_for, request\n",
    "app = Flask(__name__)\n",
    "\n",
    "@app.route('/success/<name>')\n",
    "def success(name):\n",
    "    return 'Your estimated house price (after calculation) %s' % name\n",
    "\n",
    "@app.route('/home',methods = ['POST', 'GET'])\n",
    "def login():\n",
    "    if request.method == 'POST':\n",
    "        salary = request.form['salary']\n",
    "        tax =  request.form['tax']\n",
    "        bonus =  request.form['bonus']\n",
    "        X_t = [[salary, tax, bonus]]\n",
    "\n",
    "        clf = load('filename.joblib') \n",
    "        res1 = clf.predict(X_t)\n",
    "        res = 'Predicted price ' + str(int(res1))+ '€'\n",
    "        return redirect(url_for('success', name = res ))\n",
    "    else:\n",
    "        salary = request.args.get('salary')\n",
    "        tax = request.args.get('tax')\n",
    "        bonus = request.args.get('bonus')\n",
    "        #total_salary = salary + bonus  - tax\n",
    "       # return redirect(url_for('success',name = user))\n",
    "        return render_template('home.html', name=[salary, tax, bonus])\n",
    "if __name__ == '__main__':\n",
    "    app.run()"
   ]
  }
 ],
 "metadata": {
  "kernelspec": {
   "display_name": "Python 3",
   "language": "python",
   "name": "python3"
  },
  "language_info": {
   "codemirror_mode": {
    "name": "ipython",
    "version": 3
   },
   "file_extension": ".py",
   "mimetype": "text/x-python",
   "name": "python",
   "nbconvert_exporter": "python",
   "pygments_lexer": "ipython3",
   "version": "3.8.10"
  },
  "orig_nbformat": 4,
  "vscode": {
   "interpreter": {
    "hash": "916dbcbb3f70747c44a77c7bcd40155683ae19c65e1c03b4aa3499c5328201f1"
   }
  }
 },
 "nbformat": 4,
 "nbformat_minor": 2
}
