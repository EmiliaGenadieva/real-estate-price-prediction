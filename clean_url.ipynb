{
 "cells": [
  {
   "cell_type": "code",
   "execution_count": 13,
   "metadata": {},
   "outputs": [],
   "source": [
    "all_links_array = []\n",
    "clean_array = []\n",
    "\n",
    "with open('links/links_5.txt',\"r\") as f:\n",
    "    cat_array = f.read().split(\"\\n\")\n",
    "with open('links/links_6.txt',\"r\") as r:\n",
    "    cat_array1 = r.read().split(\"\\n\")\n",
    "with open('links/links_7.txt',\"r\") as r:\n",
    "    cat_array2 = r.read().split(\"\\n\") \n",
    "with open('links/links_8.txt',\"r\") as r:\n",
    "    cat_array3 = r.read().split(\"\\n\") \n",
    "with open('links/links_9.txt',\"r\") as r:\n",
    "    cat_array4 = r.read().split(\"\\n\")\n",
    "\n",
    "clean_array = (list(filter(None, cat_array1+cat_array2+cat_array3+cat_array4+cat_array)))\n",
    "with open('links/links_12.txt',\"w\") as f:\n",
    "    for x in clean_array:\n",
    "        f.write(x+\"\\n\")"
   ]
  }
 ],
 "metadata": {
  "kernelspec": {
   "display_name": "Python 3",
   "language": "python",
   "name": "python3"
  },
  "language_info": {
   "codemirror_mode": {
    "name": "ipython",
    "version": 3
   },
   "file_extension": ".py",
   "mimetype": "text/x-python",
   "name": "python",
   "nbconvert_exporter": "python",
   "pygments_lexer": "ipython3",
   "version": "3.9.6"
  },
  "orig_nbformat": 4,
  "vscode": {
   "interpreter": {
    "hash": "31f2aee4e71d21fbe5cf8b01ff0e069b9275f58929596ceb00d14d90e3e16cd6"
   }
  }
 },
 "nbformat": 4,
 "nbformat_minor": 2
}
